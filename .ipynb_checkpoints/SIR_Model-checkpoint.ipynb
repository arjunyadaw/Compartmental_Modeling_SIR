{
 "cells": [
  {
   "cell_type": "code",
   "execution_count": null,
   "id": "f8317c8a-2809-4ba6-babb-86b84a52ad8e",
   "metadata": {},
   "outputs": [],
   "source": []
  }
 ],
 "metadata": {
  "kernelspec": {
   "display_name": "",
   "name": ""
  },
  "language_info": {
   "name": ""
  }
 },
 "nbformat": 4,
 "nbformat_minor": 5
}
